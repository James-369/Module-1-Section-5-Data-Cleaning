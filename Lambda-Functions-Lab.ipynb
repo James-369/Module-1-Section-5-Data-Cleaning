{
  "cells": [
    {
      "metadata": {
        "trusted": true
      },
      "cell_type": "code",
      "source": "import pandas as pd\nYelp = pd.read_csv('Yelp_Reviews.txt', index_col = 0)\nYelp.head() ",
      "execution_count": 2,
      "outputs": [
        {
          "output_type": "execute_result",
          "execution_count": 2,
          "data": {
            "text/html": "<div>\n<style scoped>\n    .dataframe tbody tr th:only-of-type {\n        vertical-align: middle;\n    }\n\n    .dataframe tbody tr th {\n        vertical-align: top;\n    }\n\n    .dataframe thead th {\n        text-align: right;\n    }\n</style>\n<table border=\"1\" class=\"dataframe\">\n  <thead>\n    <tr style=\"text-align: right;\">\n      <th></th>\n      <th>business_id</th>\n      <th>cool</th>\n      <th>date</th>\n      <th>funny</th>\n      <th>review_id</th>\n      <th>stars</th>\n      <th>text</th>\n      <th>useful</th>\n      <th>user_id</th>\n    </tr>\n  </thead>\n  <tbody>\n    <tr>\n      <th>1</th>\n      <td>pomGBqfbxcqPv14c3XH-ZQ</td>\n      <td>0</td>\n      <td>2012-11-13</td>\n      <td>0</td>\n      <td>dDl8zu1vWPdKGihJrwQbpw</td>\n      <td>5</td>\n      <td>I love this place! My fiance And I go here atl...</td>\n      <td>0</td>\n      <td>msQe1u7Z_XuqjGoqhB0J5g</td>\n    </tr>\n    <tr>\n      <th>2</th>\n      <td>jtQARsP6P-LbkyjbO1qNGg</td>\n      <td>1</td>\n      <td>2014-10-23</td>\n      <td>1</td>\n      <td>LZp4UX5zK3e-c5ZGSeo3kA</td>\n      <td>1</td>\n      <td>Terrible. Dry corn bread. Rib tips were all fa...</td>\n      <td>3</td>\n      <td>msQe1u7Z_XuqjGoqhB0J5g</td>\n    </tr>\n    <tr>\n      <th>4</th>\n      <td>Ums3gaP2qM3W1XcA5r6SsQ</td>\n      <td>0</td>\n      <td>2014-09-05</td>\n      <td>0</td>\n      <td>jsDu6QEJHbwP2Blom1PLCA</td>\n      <td>5</td>\n      <td>Delicious healthy food. The steak is amazing. ...</td>\n      <td>0</td>\n      <td>msQe1u7Z_XuqjGoqhB0J5g</td>\n    </tr>\n    <tr>\n      <th>5</th>\n      <td>vgfcTvK81oD4r50NMjU2Ag</td>\n      <td>0</td>\n      <td>2011-02-25</td>\n      <td>0</td>\n      <td>pfavA0hr3nyqO61oupj-lA</td>\n      <td>1</td>\n      <td>This place sucks. The customer service is horr...</td>\n      <td>2</td>\n      <td>msQe1u7Z_XuqjGoqhB0J5g</td>\n    </tr>\n    <tr>\n      <th>10</th>\n      <td>yFumR3CWzpfvTH2FCthvVw</td>\n      <td>0</td>\n      <td>2016-06-15</td>\n      <td>0</td>\n      <td>STiFMww2z31siPY7BWNC2g</td>\n      <td>5</td>\n      <td>I have been an Emerald Club member for a numbe...</td>\n      <td>0</td>\n      <td>TlvV-xJhmh7LCwJYXkV-cg</td>\n    </tr>\n  </tbody>\n</table>\n</div>",
            "text/plain": "               business_id  cool        date  funny               review_id  \\\n1   pomGBqfbxcqPv14c3XH-ZQ     0  2012-11-13      0  dDl8zu1vWPdKGihJrwQbpw   \n2   jtQARsP6P-LbkyjbO1qNGg     1  2014-10-23      1  LZp4UX5zK3e-c5ZGSeo3kA   \n4   Ums3gaP2qM3W1XcA5r6SsQ     0  2014-09-05      0  jsDu6QEJHbwP2Blom1PLCA   \n5   vgfcTvK81oD4r50NMjU2Ag     0  2011-02-25      0  pfavA0hr3nyqO61oupj-lA   \n10  yFumR3CWzpfvTH2FCthvVw     0  2016-06-15      0  STiFMww2z31siPY7BWNC2g   \n\n    stars                                               text  useful  \\\n1       5  I love this place! My fiance And I go here atl...       0   \n2       1  Terrible. Dry corn bread. Rib tips were all fa...       3   \n4       5  Delicious healthy food. The steak is amazing. ...       0   \n5       1  This place sucks. The customer service is horr...       2   \n10      5  I have been an Emerald Club member for a numbe...       0   \n\n                   user_id  \n1   msQe1u7Z_XuqjGoqhB0J5g  \n2   msQe1u7Z_XuqjGoqhB0J5g  \n4   msQe1u7Z_XuqjGoqhB0J5g  \n5   msQe1u7Z_XuqjGoqhB0J5g  \n10  TlvV-xJhmh7LCwJYXkV-cg  "
          },
          "metadata": {}
        }
      ]
    },
    {
      "metadata": {
        "trusted": true
      },
      "cell_type": "code",
      "source": "Yelp['stars_squared'] = Yelp['stars'].map(lambda x : x**2)\nYelp.head(2)",
      "execution_count": 3,
      "outputs": [
        {
          "output_type": "execute_result",
          "execution_count": 3,
          "data": {
            "text/html": "<div>\n<style scoped>\n    .dataframe tbody tr th:only-of-type {\n        vertical-align: middle;\n    }\n\n    .dataframe tbody tr th {\n        vertical-align: top;\n    }\n\n    .dataframe thead th {\n        text-align: right;\n    }\n</style>\n<table border=\"1\" class=\"dataframe\">\n  <thead>\n    <tr style=\"text-align: right;\">\n      <th></th>\n      <th>business_id</th>\n      <th>cool</th>\n      <th>date</th>\n      <th>funny</th>\n      <th>review_id</th>\n      <th>stars</th>\n      <th>text</th>\n      <th>useful</th>\n      <th>user_id</th>\n      <th>stars_squared</th>\n    </tr>\n  </thead>\n  <tbody>\n    <tr>\n      <th>1</th>\n      <td>pomGBqfbxcqPv14c3XH-ZQ</td>\n      <td>0</td>\n      <td>2012-11-13</td>\n      <td>0</td>\n      <td>dDl8zu1vWPdKGihJrwQbpw</td>\n      <td>5</td>\n      <td>I love this place! My fiance And I go here atl...</td>\n      <td>0</td>\n      <td>msQe1u7Z_XuqjGoqhB0J5g</td>\n      <td>25</td>\n    </tr>\n    <tr>\n      <th>2</th>\n      <td>jtQARsP6P-LbkyjbO1qNGg</td>\n      <td>1</td>\n      <td>2014-10-23</td>\n      <td>1</td>\n      <td>LZp4UX5zK3e-c5ZGSeo3kA</td>\n      <td>1</td>\n      <td>Terrible. Dry corn bread. Rib tips were all fa...</td>\n      <td>3</td>\n      <td>msQe1u7Z_XuqjGoqhB0J5g</td>\n      <td>1</td>\n    </tr>\n  </tbody>\n</table>\n</div>",
            "text/plain": "              business_id  cool        date  funny               review_id  \\\n1  pomGBqfbxcqPv14c3XH-ZQ     0  2012-11-13      0  dDl8zu1vWPdKGihJrwQbpw   \n2  jtQARsP6P-LbkyjbO1qNGg     1  2014-10-23      1  LZp4UX5zK3e-c5ZGSeo3kA   \n\n   stars                                               text  useful  \\\n1      5  I love this place! My fiance And I go here atl...       0   \n2      1  Terrible. Dry corn bread. Rib tips were all fa...       3   \n\n                  user_id  stars_squared  \n1  msQe1u7Z_XuqjGoqhB0J5g             25  \n2  msQe1u7Z_XuqjGoqhB0J5g              1  "
          },
          "metadata": {}
        }
      ]
    },
    {
      "metadata": {
        "trusted": true
      },
      "cell_type": "code",
      "source": "Yelp['date'].map(lambda x : x[5:7]).head()",
      "execution_count": 4,
      "outputs": [
        {
          "output_type": "execute_result",
          "execution_count": 4,
          "data": {
            "text/plain": "1     11\n2     10\n4     09\n5     02\n10    06\nName: date, dtype: object"
          },
          "metadata": {}
        }
      ]
    },
    {
      "metadata": {
        "trusted": true
      },
      "cell_type": "code",
      "source": "Yelp['text'].map(lambda x : len(x.split())).mean()",
      "execution_count": 5,
      "outputs": [
        {
          "output_type": "execute_result",
          "execution_count": 5,
          "data": {
            "text/plain": "77.06551724137931"
          },
          "metadata": {}
        }
      ]
    },
    {
      "metadata": {
        "trusted": true
      },
      "cell_type": "code",
      "source": "Yelp['Review_Num_Words'] = Yelp['text'].map(lambda x : len(x.split()))\nYelp.head(2)",
      "execution_count": 9,
      "outputs": [
        {
          "output_type": "execute_result",
          "execution_count": 9,
          "data": {
            "text/html": "<div>\n<style scoped>\n    .dataframe tbody tr th:only-of-type {\n        vertical-align: middle;\n    }\n\n    .dataframe tbody tr th {\n        vertical-align: top;\n    }\n\n    .dataframe thead th {\n        text-align: right;\n    }\n</style>\n<table border=\"1\" class=\"dataframe\">\n  <thead>\n    <tr style=\"text-align: right;\">\n      <th></th>\n      <th>business_id</th>\n      <th>cool</th>\n      <th>date</th>\n      <th>funny</th>\n      <th>review_id</th>\n      <th>stars</th>\n      <th>text</th>\n      <th>useful</th>\n      <th>user_id</th>\n      <th>stars_squared</th>\n      <th>Review_Num_Words</th>\n    </tr>\n  </thead>\n  <tbody>\n    <tr>\n      <th>1</th>\n      <td>pomGBqfbxcqPv14c3XH-ZQ</td>\n      <td>0</td>\n      <td>2012-11-13</td>\n      <td>0</td>\n      <td>dDl8zu1vWPdKGihJrwQbpw</td>\n      <td>5</td>\n      <td>I love this place! My fiance And I go here atl...</td>\n      <td>0</td>\n      <td>msQe1u7Z_XuqjGoqhB0J5g</td>\n      <td>25</td>\n      <td>58</td>\n    </tr>\n    <tr>\n      <th>2</th>\n      <td>jtQARsP6P-LbkyjbO1qNGg</td>\n      <td>1</td>\n      <td>2014-10-23</td>\n      <td>1</td>\n      <td>LZp4UX5zK3e-c5ZGSeo3kA</td>\n      <td>1</td>\n      <td>Terrible. Dry corn bread. Rib tips were all fa...</td>\n      <td>3</td>\n      <td>msQe1u7Z_XuqjGoqhB0J5g</td>\n      <td>1</td>\n      <td>30</td>\n    </tr>\n  </tbody>\n</table>\n</div>",
            "text/plain": "              business_id  cool        date  funny               review_id  \\\n1  pomGBqfbxcqPv14c3XH-ZQ     0  2012-11-13      0  dDl8zu1vWPdKGihJrwQbpw   \n2  jtQARsP6P-LbkyjbO1qNGg     1  2014-10-23      1  LZp4UX5zK3e-c5ZGSeo3kA   \n\n   stars                                               text  useful  \\\n1      5  I love this place! My fiance And I go here atl...       0   \n2      1  Terrible. Dry corn bread. Rib tips were all fa...       3   \n\n                  user_id  stars_squared  Review_Num_Words  \n1  msQe1u7Z_XuqjGoqhB0J5g             25                58  \n2  msQe1u7Z_XuqjGoqhB0J5g              1                30  "
          },
          "metadata": {}
        }
      ]
    },
    {
      "metadata": {
        "trusted": true
      },
      "cell_type": "code",
      "source": "def rewrite_as_lambda(value):\n    if len(value) > 50:\n        return 'Short'\n    elif len(value) < 80:\n        return 'Medium'\n    else:\n        'Long'\n        ",
      "execution_count": 10,
      "outputs": []
    },
    {
      "metadata": {
        "trusted": true
      },
      "cell_type": "code",
      "source": "Yelp['Review_Length'] = Yelp['Review_Num_Words'].map(lambda x : 'Short' if x < 50 else ('Medium' if x < 80 else 'Long'))\nYelp['Review_Length'].value_counts(normalize = True)",
      "execution_count": 12,
      "outputs": [
        {
          "output_type": "execute_result",
          "execution_count": 12,
          "data": {
            "text/plain": "Short     0.493103\nLong      0.294636\nMedium    0.212261\nName: Review_Length, dtype: float64"
          },
          "metadata": {}
        }
      ]
    },
    {
      "metadata": {
        "trusted": true
      },
      "cell_type": "code",
      "source": "Yelp['date'].head() ",
      "execution_count": 13,
      "outputs": [
        {
          "output_type": "execute_result",
          "execution_count": 13,
          "data": {
            "text/plain": "1     2012-11-13\n2     2014-10-23\n4     2014-09-05\n5     2011-02-25\n10    2016-06-15\nName: date, dtype: object"
          },
          "metadata": {}
        }
      ]
    },
    {
      "metadata": {
        "trusted": true
      },
      "cell_type": "code",
      "source": "Yelp['date'] = Yelp['date'].map(lambda x : '{}-{}-{}'.format(x[2:],x[5:7],x[:4]))\nYelp['date'].head() ",
      "execution_count": 19,
      "outputs": [
        {
          "output_type": "execute_result",
          "execution_count": 19,
          "data": {
            "text/plain": "1     12-11-13-11-2012\n2     14-10-23-10-2014\n4     14-09-05-09-2014\n5     11-02-25-02-2011\n10    16-06-15-06-2016\nName: date, dtype: object"
          },
          "metadata": {}
        }
      ]
    },
    {
      "metadata": {
        "trusted": true
      },
      "cell_type": "code",
      "source": "",
      "execution_count": null,
      "outputs": []
    }
  ],
  "metadata": {
    "kernelspec": {
      "name": "python36",
      "display_name": "Python 3.6",
      "language": "python"
    },
    "language_info": {
      "mimetype": "text/x-python",
      "nbconvert_exporter": "python",
      "name": "python",
      "pygments_lexer": "ipython3",
      "version": "3.6.6",
      "file_extension": ".py",
      "codemirror_mode": {
        "version": 3,
        "name": "ipython"
      }
    }
  },
  "nbformat": 4,
  "nbformat_minor": 2
}